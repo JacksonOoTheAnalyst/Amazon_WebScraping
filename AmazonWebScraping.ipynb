{
 "cells": [
  {
   "cell_type": "code",
   "execution_count": 1,
   "id": "bdd43bc8-564f-4350-a4be-5f2b93fa1d08",
   "metadata": {},
   "outputs": [],
   "source": [
    "#import Libraries\n",
    "\n",
    "from bs4 import BeautifulSoup\n",
    "import requests\n",
    "import time\n",
    "import datetime\n",
    "\n",
    "import smtplib\n",
    "\n",
    "#----------\n",
    "\n",
    "import pandas as pd \n",
    "import numpy as np \n"
   ]
  },
  {
   "cell_type": "code",
   "execution_count": 2,
   "id": "1571a026-f41c-4900-983b-627b996f6867",
   "metadata": {},
   "outputs": [],
   "source": [
    "#Connect to Website \n",
    "\n",
    "import requests\n",
    "\n",
    "url = \"https://www.amazon.com/2021-Apple-iPad-Mini-Wi-Fi/dp/B09G91LXFP/ref=sr_1_2?crid=1QGHZM0PTLSV&dib=eyJ2IjoiMSJ9.R4uCyDDQjODG5EFONQvt_w7EqsbutDYXJ_ff6093MNgifVWkLNKGK6NrsEvPRkMTDphfDMIGyy1sE9_fuw-eU9ZuwivpbRsZSS4lR-_HfnK3lldERtHHh2-L0Sn4lpJzjWrmIFeOkFxMDnFtkffI6AZsNRhA7LQ89qkpItcgVTZ3dlsWYmLr7ckRC32pjMvWVxvn3itqZohWcOMUVDSb4Di-UFbb94Q-nQhU5sZK6Fk.kB-1SVIShj_MUNMGHMUd9rPvzfhIVMVLj5wUZcwrIPU&dib_tag=se&keywords=i+pad&qid=1725540942&sprefix=i+pad+%2Caps%2C565&sr=8-2\"\n",
    "\n",
    "#Apply/ Permit to Edit/ Extract Data by Using Mozilla// Chrome// Edge\n",
    "#important thing to add while doing webscraping \n",
    "headers = {\"User-Agent\": \"Mozilla/5.0 (Windows NT 10.0; Win64; x64) AppleWebKit/537.36 (KHTML, like Gecko) Chrome/128.0.0.0 Safari/537.36 Edg/128.0.0.0\", \"Accept-Encoding\":\"gzip, deflate\", \"Accept\":\"text/html,application/xhtml+xml,application/xml;q=0.9,*/*;q=0.8\", \"DNT\":\"1\",\"Connection\":\"close\", \"Upgrade-Insecure-Requests\":\"1\"}\n",
    "\n",
    "page = requests.get(url, headers=headers)"
   ]
  },
  {
   "cell_type": "code",
   "execution_count": 3,
   "id": "eb024bfc-5b82-41e9-8d55-9ad7841990a5",
   "metadata": {},
   "outputs": [
    {
     "name": "stdout",
     "output_type": "stream",
     "text": [
      "\n",
      "            Apple iPad Mini (6th Generation): with A15 Bionic chip, 8.3-inch Liquid Retina Display, 64GB, Wi-Fi 6, 12MP front/12MP Back Camera, Touch ID, All-Day Battery Life – Space Gray\n",
      "           \n",
      "\n",
      "                 $349.59\n",
      "                \n"
     ]
    }
   ],
   "source": [
    "soup1 = BeautifulSoup(page.content, \"html.parser\")\n",
    "\n",
    "soup2 = BeautifulSoup(soup1.prettify(), \"html.parser\")\n",
    "#better formatting -- prettify(), \"html.parser\"\n",
    "\n",
    "title = soup2.find(id='productTitle').get_text()\n",
    "#product name extracing from website\n",
    "\n",
    "price = soup2.select_one('span.a-price').select_one('span.a-offscreen').get_text()\n",
    "#product price extracing from website\n",
    "\n",
    "print(title)\n",
    "print(price)\n"
   ]
  },
  {
   "cell_type": "code",
   "execution_count": 4,
   "id": "373759a1-bddc-41c1-9b21-4d28486b987b",
   "metadata": {},
   "outputs": [
    {
     "name": "stdout",
     "output_type": "stream",
     "text": [
      "['Apple', 'iPad', 'Mini', '(6th', 'Generation):', 'with', 'A15', 'Bionic', 'chip,', '8.3-inch', 'Liquid', 'Retina', 'Display,', '64GB,', 'Wi-Fi', '6,', '12MP', 'front/12MP', 'Back', 'Camera,', 'Touch', 'ID,', 'All-Day', 'Battery', 'Life', '–', 'Space', 'Gray']\n",
      "349.59\n"
     ]
    }
   ],
   "source": [
    "price = price.strip()[1:]\n",
    "#remove dollar($) sign and change type into string\n",
    "\n",
    "title = title.split()\n",
    "#change type into list to remove description text from the product name\n",
    "\n",
    "print(title)\n",
    "print(price)\n"
   ]
  },
  {
   "cell_type": "code",
   "execution_count": 5,
   "id": "3dad01b2-16bf-4fc4-a24b-004563dc5d71",
   "metadata": {},
   "outputs": [
    {
     "name": "stdout",
     "output_type": "stream",
     "text": [
      "Apple iPad Mini (6th Generation)\n",
      "349.59\n"
     ]
    }
   ],
   "source": [
    "Title = \" \".join(title[:5])\n",
    "#indexing the list to get the product name only without description\n",
    "\n",
    "title = Title.strip()[:-1]\n",
    "#remaking list to string \n",
    "\n",
    "print(title)\n",
    "print(price)"
   ]
  },
  {
   "cell_type": "code",
   "execution_count": 6,
   "id": "668cab1b-d609-4a09-988a-5dccaff1f140",
   "metadata": {},
   "outputs": [
    {
     "name": "stdout",
     "output_type": "stream",
     "text": [
      "2024-09-05\n"
     ]
    }
   ],
   "source": [
    "#creating today date time for time manipulation (automating process)\n",
    "import datetime\n",
    "\n",
    "today = datetime.date.today()\n",
    "\n",
    "print(today)"
   ]
  },
  {
   "cell_type": "code",
   "execution_count": 7,
   "id": "aad8820b-d486-4d89-8254-5709d501fbdf",
   "metadata": {},
   "outputs": [],
   "source": [
    "#creating csv fild for data storing local\n",
    "import csv\n",
    "\n",
    "header = ['Title', 'Price', 'Date']\n",
    "data = [title, price, today]\n",
    "\n",
    "with open('AmazonwebscrapperDataset.csv', 'w', newline='', encoding='UTF8') as f:\n",
    "    writer = csv.writer(f)\n",
    "    writer.writerow(header)\n",
    "    writer.writerow(data)\n",
    "    \n"
   ]
  },
  {
   "cell_type": "code",
   "execution_count": 8,
   "id": "05b1abcd-5325-4ef0-8f3f-50ab69b49028",
   "metadata": {},
   "outputs": [
    {
     "name": "stdout",
     "output_type": "stream",
     "text": [
      "                              Title   Price        Date\n",
      "0  Apple iPad Mini (6th Generation)  349.59  2024-09-05\n"
     ]
    }
   ],
   "source": [
    "#import pandas as pd\n",
    "\n",
    "df = pd.read_csv(r'C:\\Users\\mkks\\Automating Crypteo API\\New folder\\AmazonwebscrapperDataset.csv')\n",
    "\n",
    "print(df)"
   ]
  },
  {
   "cell_type": "code",
   "execution_count": 9,
   "id": "ccd74afd-0dc0-4a02-a55d-12592d908414",
   "metadata": {},
   "outputs": [],
   "source": [
    "#Now Appending Data to the csv\n",
    "\n",
    "with open('AmazonwebscrapperDataset.csv', 'a+', newline='', encoding='UTF8') as f:\n",
    "    writer = csv.writer(f)\n",
    "    writer.writerow(data)"
   ]
  },
  {
   "cell_type": "code",
   "execution_count": 44,
   "id": "c6a8f879-6781-4861-934d-0ebdf594af6b",
   "metadata": {},
   "outputs": [],
   "source": [
    "#Automating Daily Check Price of the product by creating Function\n",
    "\n",
    "def check_price():\n",
    "\n",
    "    url = \"https://www.amazon.com/2021-Apple-iPad-Mini-Wi-Fi/dp/B09G91LXFP/ref=sr_1_2?crid=1QGHZM0PTLSV&dib=eyJ2IjoiMSJ9.R4uCyDDQjODG5EFONQvt_w7EqsbutDYXJ_ff6093MNgifVWkLNKGK6NrsEvPRkMTDphfDMIGyy1sE9_fuw-eU9ZuwivpbRsZSS4lR-_HfnK3lldERtHHh2-L0Sn4lpJzjWrmIFeOkFxMDnFtkffI6AZsNRhA7LQ89qkpItcgVTZ3dlsWYmLr7ckRC32pjMvWVxvn3itqZohWcOMUVDSb4Di-UFbb94Q-nQhU5sZK6Fk.kB-1SVIShj_MUNMGHMUd9rPvzfhIVMVLj5wUZcwrIPU&dib_tag=se&keywords=i+pad&qid=1725540942&sprefix=i+pad+%2Caps%2C565&sr=8-2\"\n",
    "    \n",
    "    headers = {\"User-Agent\": \"Mozilla/5.0 (Windows NT 10.0; Win64; x64) AppleWebKit/537.36 (KHTML, like Gecko) Chrome/128.0.0.0 Safari/537.36 Edg/128.0.0.0\", \"Accept-Encoding\":\"gzip, deflate\", \"Accept\":\"text/html,application/xhtml+xml,application/xml;q=0.9,*/*;q=0.8\", \"DNT\":\"1\",\"Connection\":\"close\", \"Upgrade-Insecure-Requests\":\"1\"}\n",
    "    \n",
    "    page = requests.get(url, headers=headers)\n",
    "    \n",
    "    soup1 = BeautifulSoup(page.content, \"html.parser\")\n",
    "    \n",
    "    soup2 = BeautifulSoup(soup1.prettify(), \"html.parser\")\n",
    "    #better formatting -- prettify(), \"html.parser\"\n",
    "    \n",
    "    title = soup2.find(id='productTitle').get_text()\n",
    "    #product name extracing from website\n",
    "    \n",
    "    price = soup2.select_one('span.a-price').select_one('span.a-offscreen').get_text()\n",
    "    #product price extracing from website\n",
    "    \n",
    "    #----------------//-------------------\n",
    "    \n",
    "    price = price.strip()[1:]\n",
    "    #remove dollar($) sign and change type into string\n",
    "    \n",
    "    title = title.split()\n",
    "    #change type into list to remove description text from the product name\n",
    "    \n",
    "    Title = \" \".join(title[:5])\n",
    "    #indexing the list to get the product name only without description\n",
    "    \n",
    "    title = Title.strip()[:-1]\n",
    "    #remaking list to string \n",
    "    \n",
    "    #----------------//---------------------\n",
    "    \n",
    "    #creating today date time for time manipulation (automating process)\n",
    "    import datetime\n",
    "    \n",
    "    today = datetime.date.today()\n",
    "    \n",
    "    print(today)\n",
    "    \n",
    "    import csv\n",
    "    \n",
    "    header = ['Title', 'Price', 'Date']\n",
    "    data = [title, price, today]\n",
    "    \n",
    "    #Now Appending Data to the csv\n",
    "    with open('AmazonwebscrapperDataset.csv', 'a+', newline='', encoding='UTF8') as f:\n",
    "        writer = csv.writer(f)\n",
    "        writer.writerow(data)\n",
    "\n",
    "\n",
    "    #-----------------/////--------------\n",
    "\n",
    "    #send mail if price lower than something \n",
    "\n",
    "    if price < 300:\n",
    "        send_mail()"
   ]
  },
  {
   "cell_type": "code",
   "execution_count": 48,
   "id": "65f85a1f-93d1-4114-9e71-03f3b2835431",
   "metadata": {},
   "outputs": [],
   "source": [
    "def send_mail():\n",
    "    server = smtplib.SMTP_SSL('winmawoo281296.gmail.com',465)\n",
    "    server.ehlo()\n",
    "    #server.starttls()\n",
    "    server.ehlo()\n",
    "    server.login('jameso96@gmail.com','xxxxxxxxxxxxxx')\n",
    "    \n",
    "    subject = \"The ipad you want is below $300! Now is your chance to buy!\"\n",
    "    body = \"Win, This is the moment we have been waiting for. Now is your chance to pick up the ipad of your dreams. Don't mess it up! Link here: https://www.amazon.com/2021-Apple-iPad-Mini-Wi-Fi/dp/B09G91LXFP/ref=sr_1_2?crid=1QGHZM0PTLSV&dib=eyJ2IjoiMSJ9.R4uCyDDQjODG5EFONQvt_w7EqsbutDYXJ_ff6093MNgifVWkLNKGK6NrsEvPRkMTDphfDMIGyy1sE9_fuw-eU9ZuwivpbRsZSS4lR-_HfnK3lldERtHHh2-L0Sn4lpJzjWrmIFeOkFxMDnFtkffI6AZsNRhA7LQ89qkpItcgVTZ3dlsWYmLr7ckRC32pjMvWVxvn3itqZohWcOMUVDSb4Di-UFbb94Q-nQhU5sZK6Fk.kB-1SVIShj_MUNMGHMUd9rPvzfhIVMVLj5wUZcwrIPU&dib_tag=se&keywords=i+pad&qid=1725540942&sprefix=i+pad+%2Caps%2C565&sr=8-2\"\n",
    "   \n",
    "    msg = f\"Subject: {subject}\\n\\n{body}\"\n",
    "    \n",
    "    server.sendmail(\n",
    "        'jameso96@gmail.com',\n",
    "        msg\n",
    "     \n",
    "    )"
   ]
  },
  {
   "cell_type": "code",
   "execution_count": 52,
   "id": "7761d99e-d8c2-4397-92fc-cfa0b4412b4d",
   "metadata": {},
   "outputs": [],
   "source": [
    "#import time, Append/ Refresh Product Price Daily/ Hourly/ .. \n",
    "\n",
    "#while(True):\n",
    "    #check_price()\n",
    "    #time.sleep(5)\n",
    "\n",
    "#time.sleep(second) --- 1 s = 1s, 1 min = 60s "
   ]
  },
  {
   "cell_type": "code",
   "execution_count": 54,
   "id": "0cdc2e15-cc16-4d29-a152-13a917e46073",
   "metadata": {},
   "outputs": [
    {
     "name": "stdout",
     "output_type": "stream",
     "text": [
      "                              Title   Price        Date\n",
      "0  Apple iPad Mini (6th Generation)  349.59  2024-09-05\n",
      "1  Apple iPad Mini (6th Generation)  349.59  2024-09-05\n",
      "2  Apple iPad Mini (6th Generation)  349.59  2024-09-05\n",
      "3  Apple iPad Mini (6th Generation)  349.59  2024-09-05\n",
      "4  Apple iPad Mini (6th Generation)  349.59  2024-09-05\n",
      "5  Apple iPad Mini (6th Generation)  349.59  2024-09-05\n",
      "6  Apple iPad Mini (6th Generation)  349.59  2024-09-05\n",
      "7  Apple iPad Mini (6th Generation)  349.59  2024-09-05\n"
     ]
    }
   ],
   "source": [
    "#import pandas as pd\n",
    "\n",
    "df = pd.read_csv(r'C:\\Users\\mkks\\Automating Crypteo API\\New folder\\AmazonwebscrapperDataset.csv')\n",
    "\n",
    "print(df)"
   ]
  },
  {
   "cell_type": "code",
   "execution_count": null,
   "id": "64ce0016-25e5-458f-bb82-477e39a89f56",
   "metadata": {},
   "outputs": [],
   "source": []
  }
 ],
 "metadata": {
  "kernelspec": {
   "display_name": "Python 3 (ipykernel)",
   "language": "python",
   "name": "python3"
  },
  "language_info": {
   "codemirror_mode": {
    "name": "ipython",
    "version": 3
   },
   "file_extension": ".py",
   "mimetype": "text/x-python",
   "name": "python",
   "nbconvert_exporter": "python",
   "pygments_lexer": "ipython3",
   "version": "3.11.7"
  }
 },
 "nbformat": 4,
 "nbformat_minor": 5
}
